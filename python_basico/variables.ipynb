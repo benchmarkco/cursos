{
 "cells": [
  {
   "cell_type": "markdown",
   "metadata": {},
   "source": [
    "### **Variables**"
   ]
  },
  {
   "cell_type": "markdown",
   "metadata": {},
   "source": [
    "**Definición** \n",
    "\n",
    "Una variable es un sitio donde se almacena una determinada información, en nuestro caso esta información puede ser: \n",
    "-  Texto\n",
    "-  Numeros"
   ]
  },
  {
   "cell_type": "markdown",
   "metadata": {},
   "source": [
    "**Tipos de variables**\n",
    "\n",
    "Con el fin de entender que texto y numeros es posible almacenar en python, demos un recorrido por los tipos de variables:"
   ]
  },
  {
   "cell_type": "markdown",
   "metadata": {},
   "source": [
    "* *Strings:* Tipo de variable que pérmite guardar texto, por ejemplo:\n"
   ]
  },
  {
   "cell_type": "code",
   "execution_count": 16,
   "metadata": {},
   "outputs": [
    {
     "data": {
      "text/plain": [
       "'Hola, estoy aprendiendo python'"
      ]
     },
     "execution_count": 16,
     "metadata": {},
     "output_type": "execute_result"
    }
   ],
   "source": [
    "#Valor que queremos guardar en nuestra variable -> 'Hola, estoy aprendiendo python'\n",
    "#Nombre de la variable que queremos utilizar para almacenar el valor -> x\n",
    "x = 'Hola, estoy aprendiendo python'\n",
    "x"
   ]
  },
  {
   "cell_type": "markdown",
   "metadata": {},
   "source": [
    "* *Boleans:* Tipo de variable que solo puede tomar 2 valores, verdadero (True) o falso (False), por ejemplo:"
   ]
  },
  {
   "cell_type": "code",
   "execution_count": 11,
   "metadata": {},
   "outputs": [
    {
     "name": "stdout",
     "output_type": "stream",
     "text": [
      "Resultado primer ejemplo:\n",
      "True\n",
      "Resultado segundo ejemplo:\n",
      "False\n"
     ]
    }
   ],
   "source": [
    "#Valor que queremos guardar en nuestra variable -> True\n",
    "#Nombre de la variable que queremos utilizar para almacenar el texto -> x\n",
    "x = True\n",
    "print('Resultado primer ejemplo:')\n",
    "print(x)\n",
    "\n",
    "#Valor que queremos guardar en nuestra variable -> False\n",
    "#Nombre de la variable que queremos utilizar para almacenar el texto -> y\n",
    "y = False\n",
    "print('Resultado segundo ejemplo:')\n",
    "print(y)\n"
   ]
  },
  {
   "cell_type": "markdown",
   "metadata": {},
   "source": [
    "* *Intergers:* Tipo de variable que permite guardar numeros enteros, los cuales no contienen decimales y pueden ser positivos o negativos, por ejemplo:"
   ]
  },
  {
   "cell_type": "code",
   "execution_count": 13,
   "metadata": {},
   "outputs": [
    {
     "name": "stdout",
     "output_type": "stream",
     "text": [
      "Resultado primer ejemplo:\n",
      "32\n",
      "Resultado segundo ejemplo:\n",
      "-45\n"
     ]
    }
   ],
   "source": [
    "#Valor que queremos guardar en nuestra variable -> 32\n",
    "#Nombre de la variable que queremos utilizar para almacenar el texto -> x\n",
    "x = 32\n",
    "print('Resultado primer ejemplo:')\n",
    "print(x)\n",
    "\n",
    "#Valor que queremos guardar en nuestra variable -> -45\n",
    "#Nombre de la variable que queremos utilizar para almacenar el texto -> y\n",
    "y = -45\n",
    "print('Resultado segundo ejemplo:')\n",
    "print(y)"
   ]
  },
  {
   "cell_type": "markdown",
   "metadata": {},
   "source": [
    "* *Float:* Tipo de variable que permite guardar numeros tanto positivos como negativos y que contengan uno o mas decimales, por ejemplo:"
   ]
  },
  {
   "cell_type": "code",
   "execution_count": 17,
   "metadata": {},
   "outputs": [
    {
     "data": {
      "text/plain": [
       "3.1416"
      ]
     },
     "execution_count": 17,
     "metadata": {},
     "output_type": "execute_result"
    }
   ],
   "source": [
    "#Valor que queremos guardar en nuestra variable -> 3.1416\n",
    "#Nombre de la variable que queremos utilizar para almacenar el valor -> x\n",
    "x = 3.1416\n",
    "x"
   ]
  },
  {
   "cell_type": "markdown",
   "metadata": {},
   "source": []
  }
 ],
 "metadata": {
  "kernelspec": {
   "display_name": "Python 3.10.7 64-bit (microsoft store)",
   "language": "python",
   "name": "python3"
  },
  "language_info": {
   "codemirror_mode": {
    "name": "ipython",
    "version": 3
   },
   "file_extension": ".py",
   "mimetype": "text/x-python",
   "name": "python",
   "nbconvert_exporter": "python",
   "pygments_lexer": "ipython3",
   "version": "3.10.9"
  },
  "orig_nbformat": 4,
  "vscode": {
   "interpreter": {
    "hash": "e9265a22922cf29a7916131f3def5e811c3f0863f796f834e6c61767dd663e75"
   }
  }
 },
 "nbformat": 4,
 "nbformat_minor": 2
}
