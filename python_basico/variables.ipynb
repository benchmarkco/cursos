{
 "cells": [
  {
   "cell_type": "markdown",
   "metadata": {},
   "source": [
    "### **Variables**"
   ]
  },
  {
   "cell_type": "markdown",
   "metadata": {},
   "source": [
    "**Definición** \n",
    "\n",
    "Una variable es un sitio donde se almacena una determinada información, en nuestro caso esta información puede ser: \n",
    "-  Texto\n",
    "-  Numeros"
   ]
  },
  {
   "cell_type": "markdown",
   "metadata": {},
   "source": [
    "**Tipos de variables**\n",
    "\n",
    "Con el fin de entender que texto y numeros es posible almacenar en python, demos un recorrido por los tipos de variables:"
   ]
  },
  {
   "cell_type": "markdown",
   "metadata": {},
   "source": [
    "* **Strings:** Tipo de variable que pérmite guardar texto, por ejemplo:\n"
   ]
  },
  {
   "cell_type": "code",
   "execution_count": 10,
   "metadata": {},
   "outputs": [
    {
     "name": "stdout",
     "output_type": "stream",
     "text": [
      "El valor de nuestra variables es:\n",
      "Hola, estoy aprendiendo python\n",
      "\n",
      "El tipo de variable es:\n",
      "<class 'str'>\n"
     ]
    }
   ],
   "source": [
    "#Valor que queremos guardar en nuestra variable -> 'Hola, estoy aprendiendo python'\n",
    "#Nombre de la variable que queremos utilizar para almacenar el valor -> x\n",
    "x = 'Hola, estoy aprendiendo python'\n",
    "print('El valor de nuestra variables es:')\n",
    "print(x)\n",
    "print()\n",
    "print('El tipo de variable es:')\n",
    "print(type(x))"
   ]
  },
  {
   "cell_type": "markdown",
   "metadata": {},
   "source": [
    "* **Boleans:** Tipo de variable que solo puede tomar 2 valores, verdadero (True) o falso (False), por ejemplo:"
   ]
  },
  {
   "cell_type": "code",
   "execution_count": 13,
   "metadata": {},
   "outputs": [
    {
     "name": "stdout",
     "output_type": "stream",
     "text": [
      "Resultado primer ejemplo\n",
      "El valor de nuestra variables es:\n",
      "True\n",
      "\n",
      "El tipo de variable es:\n",
      "<class 'bool'>\n",
      "True\n"
     ]
    }
   ],
   "source": [
    "#Valor que queremos guardar en nuestra variable -> True\n",
    "#Nombre de la variable que queremos utilizar para almacenar el bolean -> x\n",
    "x = True\n",
    "print('Resultado primer ejemplo')\n",
    "print('El valor de nuestra variables es:')\n",
    "print(x)\n",
    "print()\n",
    "print('El tipo de variable es:')\n",
    "print(type(x))\n",
    "print(x)"
   ]
  },
  {
   "cell_type": "code",
   "execution_count": 15,
   "metadata": {},
   "outputs": [
    {
     "name": "stdout",
     "output_type": "stream",
     "text": [
      "Resultado segundo ejemplo\n",
      "El valor de nuestra variables es:\n",
      "False\n",
      "\n",
      "El tipo de variable es:\n",
      "<class 'bool'>\n"
     ]
    }
   ],
   "source": [
    "#Valor que queremos guardar en nuestra variable -> False\n",
    "#Nombre de la variable que queremos utilizar para almacenar el texto -> y\n",
    "y = False\n",
    "print('Resultado segundo ejemplo')\n",
    "print('El valor de nuestra variables es:')\n",
    "print(y)\n",
    "print()\n",
    "print('El tipo de variable es:')\n",
    "print(type(y))"
   ]
  },
  {
   "cell_type": "markdown",
   "metadata": {},
   "source": [
    "* **Intergers:** Tipo de variable que permite guardar numeros enteros, los cuales no contienen decimales y pueden ser positivos o negativos, por ejemplo:"
   ]
  },
  {
   "cell_type": "code",
   "execution_count": 16,
   "metadata": {},
   "outputs": [
    {
     "name": "stdout",
     "output_type": "stream",
     "text": [
      "Resultado primer ejemplo\n",
      "El valor de nuestra variables es:\n",
      "32\n",
      "\n",
      "El tipo de variable es:\n",
      "<class 'int'>\n"
     ]
    }
   ],
   "source": [
    "#Valor que queremos guardar en nuestra variable -> 32\n",
    "#Nombre de la variable que queremos utilizar para almacenar el texto -> x\n",
    "x = 32\n",
    "print('Resultado primer ejemplo')\n",
    "print('El valor de nuestra variables es:')\n",
    "print(x)\n",
    "print()\n",
    "print('El tipo de variable es:')\n",
    "print(type(x))"
   ]
  },
  {
   "cell_type": "code",
   "execution_count": 17,
   "metadata": {},
   "outputs": [
    {
     "name": "stdout",
     "output_type": "stream",
     "text": [
      "Resultado segundo ejemplo\n",
      "El valor de nuestra variables es:\n",
      "-45\n",
      "\n",
      "El tipo de variable es:\n",
      "<class 'int'>\n"
     ]
    }
   ],
   "source": [
    "#Valor que queremos guardar en nuestra variable -> -45\n",
    "#Nombre de la variable que queremos utilizar para almacenar el texto -> y\n",
    "y = -45\n",
    "print('Resultado segundo ejemplo')\n",
    "print('El valor de nuestra variables es:')\n",
    "print(y)\n",
    "print()\n",
    "print('El tipo de variable es:')\n",
    "print(type(y))"
   ]
  },
  {
   "cell_type": "markdown",
   "metadata": {},
   "source": [
    "* *Float:* Tipo de variable que permite guardar numeros tanto positivos como negativos y que contengan uno o mas decimales, por ejemplo:"
   ]
  },
  {
   "cell_type": "code",
   "execution_count": 18,
   "metadata": {},
   "outputs": [
    {
     "name": "stdout",
     "output_type": "stream",
     "text": [
      "El valor de nuestra variables es:\n",
      "3.1416\n",
      "\n",
      "El tipo de variable es:\n",
      "<class 'float'>\n"
     ]
    }
   ],
   "source": [
    "#Valor que queremos guardar en nuestra variable -> 3.1416\n",
    "#Nombre de la variable que queremos utilizar para almacenar el valor -> x\n",
    "x = 3.1416\n",
    "print('El valor de nuestra variables es:')\n",
    "print(x)\n",
    "print()\n",
    "print('El tipo de variable es:')\n",
    "print(type(x))"
   ]
  },
  {
   "cell_type": "markdown",
   "metadata": {},
   "source": [
    "**Dato curiosos**\n",
    "* ¿Podemos expresar otro tipo de variables en python?\n",
    "\n",
    "**R/** Si, otro tipo de variable de python son los numeros complejos o complex, los cuales tienen la siguiente esctructura: \n",
    "\n",
    "<parte_real>+<parte_imaginaria>j\n",
    "\n",
    "Un ejemplo de estos es:\n"
   ]
  },
  {
   "cell_type": "code",
   "execution_count": 21,
   "metadata": {},
   "outputs": [
    {
     "name": "stdout",
     "output_type": "stream",
     "text": [
      "El valor de nuestra variables es:\n",
      "(1+2j)\n",
      "\n",
      "Su parte natural es:\n",
      "1.0\n",
      "\n",
      "Su parte imaginaria es:\n",
      "2.0\n",
      "\n",
      "El tipo de variable es:\n",
      "<class 'complex'>\n"
     ]
    }
   ],
   "source": [
    "#Valor que queremos guardar en nuestra variable -> 1+2j\n",
    "#Nombre de la variable que queremos utilizar para almacenar el valor -> x\n",
    "x = 1+2j\n",
    "print('El valor de nuestra variables es:')\n",
    "print(x)\n",
    "print()\n",
    "print('Su parte natural es:')\n",
    "print(x.real)\n",
    "print()\n",
    "print('Su parte imaginaria es:')\n",
    "print(x.imag)\n",
    "print()\n",
    "print('El tipo de variable es:')\n",
    "print(type(x))"
   ]
  }
 ],
 "metadata": {
  "kernelspec": {
   "display_name": "Python 3.10.7 64-bit (microsoft store)",
   "language": "python",
   "name": "python3"
  },
  "language_info": {
   "codemirror_mode": {
    "name": "ipython",
    "version": 3
   },
   "file_extension": ".py",
   "mimetype": "text/x-python",
   "name": "python",
   "nbconvert_exporter": "python",
   "pygments_lexer": "ipython3",
   "version": "3.10.9"
  },
  "orig_nbformat": 4,
  "vscode": {
   "interpreter": {
    "hash": "e9265a22922cf29a7916131f3def5e811c3f0863f796f834e6c61767dd663e75"
   }
  }
 },
 "nbformat": 4,
 "nbformat_minor": 2
}
