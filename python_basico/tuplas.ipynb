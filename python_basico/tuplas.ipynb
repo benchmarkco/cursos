{
 "cells": [
  {
   "cell_type": "markdown",
   "metadata": {},
   "source": [
    "### **Tuplas**"
   ]
  },
  {
   "cell_type": "markdown",
   "metadata": {},
   "source": [
    "**Definición** \n",
    "\n",
    "Una tupla es una estructura de datos similar a las listas que tambien nos permite almacenar colecciones de datos y con la salvedad de que es inmutable."
   ]
  },
  {
   "cell_type": "markdown",
   "metadata": {},
   "source": [
    "**Caracteristicas** \n",
    "\n",
    "**1. Ordenada:** Los elementos dentro de ella están indexados y es posible acceder a cada uno por medio de su indice.\n",
    "\n",
    "**2. Dinámica:** Pueden contener diferentes tipos de datos y hasta de estructuras de datos.\n",
    "\n",
    "**3. No única:** Puede contener elementos duplicados sin que se generen errores."
   ]
  },
  {
   "cell_type": "markdown",
   "metadata": {},
   "source": [
    "**Creación y Estructura**\n",
    "\n",
    "Por medio del uso de parentesis ( ) o el uso del comando **tuple()** es posible crear una tupla y su estructura seria la siguiente:\n",
    "\n",
    "tupla = ( 'elemento_1' , 'elemento_2' , 'elemento_3' , 'elemento_4' )\n",
    "\n",
    "Ejemplo:"
   ]
  },
  {
   "cell_type": "code",
   "execution_count": 1,
   "metadata": {},
   "outputs": [
    {
     "name": "stdout",
     "output_type": "stream",
     "text": [
      "Resultado 1:\n",
      "La tupla es:\n",
      "('USD', 'COP', 'MXN', 'EUR', 'BTC', 'ETH', 'ARS', 'COP')\n",
      "\n",
      "El tipo de dato es:\n",
      "<class 'tuple'>\n"
     ]
    }
   ],
   "source": [
    "#Elementos que queremos guardar como datos en la tupla -> 'USD' 'COP' 'MXN' 'EUR' 'BTC' 'ETH' 'ARS' 'COP'\n",
    "#Nombre de la variable que queremos utilizar para almacenar la tupla -> divisas_1\n",
    "\n",
    "#Manera 1\n",
    "divisas_1 = ('USD','COP','MXN','EUR','BTC','ETH','ARS','COP')\n",
    "\n",
    "print('Resultado 1:')\n",
    "print('La tupla es:')\n",
    "print(divisas_1)\n",
    "print()\n",
    "print('El tipo de dato es:')\n",
    "print(type(divisas_1))\n"
   ]
  },
  {
   "cell_type": "code",
   "execution_count": 5,
   "metadata": {},
   "outputs": [
    {
     "name": "stdout",
     "output_type": "stream",
     "text": [
      "Resultado 2:\n",
      "La tupla es:\n",
      "('USD', 'COP', 'MXN', 'EUR', 'BTC', 'ETH', 'ARS', 'COP')\n",
      "\n",
      "El tipo de dato es:\n",
      "<class 'tuple'>\n"
     ]
    }
   ],
   "source": [
    "#Valores que queremos guardar como datos en la tupla -> 'USD' 'COP' 'MXN' 'EUR' 'BTC' 'ETH' 'ARS' 'COP'\n",
    "#Nombre de la variable que queremos utilizar para almacenar la tupla -> divisas_2\n",
    "\n",
    "#Manera 2\n",
    "divisas_2 = tuple(('USD','COP','MXN','EUR','BTC','ETH','ARS','COP'))\n",
    "print('Resultado 2:')\n",
    "print('La tupla es:')\n",
    "print(divisas_2)\n",
    "print()\n",
    "print('El tipo de dato es:')\n",
    "print(type(divisas_2))"
   ]
  },
  {
   "cell_type": "markdown",
   "metadata": {},
   "source": [
    "Ya que sabemos definir una tupla y entendemos su estructura, comprobemos sus caracteristicas con los siguientes ejemplos:"
   ]
  },
  {
   "cell_type": "markdown",
   "metadata": {},
   "source": [
    "**1. Ordenada**"
   ]
  },
  {
   "cell_type": "code",
   "execution_count": 6,
   "metadata": {},
   "outputs": [
    {
     "name": "stdout",
     "output_type": "stream",
     "text": [
      "Primer elemento:\n",
      "USD\n",
      "Segundo elemento:\n",
      "COP\n",
      "Tercer elemento:\n",
      "MXN\n",
      "Indentificador del Peso Argentino:\n",
      "ARS\n"
     ]
    }
   ],
   "source": [
    "# -> Recordemos que nuestra tupla tiene 8 elementos y al estar ordenados esto significa que podemos consultar cada \n",
    "#uno de manera individual.\n",
    "# -> La forma para consultarlo es: nombre_tupla[posicion_elemeto]\n",
    "\n",
    "print('Primer elemento:')\n",
    "print(divisas_1[0])\n",
    "print('Segundo elemento:')\n",
    "print(divisas_1[1])\n",
    "print('Tercer elemento:')\n",
    "print(divisas_1[2])\n",
    "print('Indentificador del Peso Argentino:')\n",
    "print(divisas_1[6])"
   ]
  },
  {
   "cell_type": "markdown",
   "metadata": {},
   "source": [
    "**-> Editable** (Lo cual no es una caracteristica, pero solo por curiosidad revisemos cual es el resultado)"
   ]
  },
  {
   "cell_type": "code",
   "execution_count": 7,
   "metadata": {},
   "outputs": [
    {
     "ename": "TypeError",
     "evalue": "'tuple' object does not support item assignment",
     "output_type": "error",
     "traceback": [
      "\u001b[1;31m---------------------------------------------------------------------------\u001b[0m",
      "\u001b[1;31mTypeError\u001b[0m                                 Traceback (most recent call last)",
      "Cell \u001b[1;32mIn[7], line 4\u001b[0m\n\u001b[0;32m      1\u001b[0m \u001b[38;5;66;03m#Recordemos nuestra tupla: ['USD', 'COP', 'MXN', 'EUR', 'BTC', 'ETH', 'ARS', 'COP']\u001b[39;00m\n\u001b[0;32m      2\u001b[0m \n\u001b[0;32m      3\u001b[0m \u001b[38;5;66;03m#Cambiemos el identificador de bitcoin por el de dogecoin (DOGE)\u001b[39;00m\n\u001b[1;32m----> 4\u001b[0m \u001b[43mdivisas_1\u001b[49m\u001b[43m[\u001b[49m\u001b[38;5;241;43m4\u001b[39;49m\u001b[43m]\u001b[49m \u001b[38;5;241m=\u001b[39m \u001b[38;5;124m'\u001b[39m\u001b[38;5;124mDOGE\u001b[39m\u001b[38;5;124m'\u001b[39m\n\u001b[0;32m      5\u001b[0m divisas_1\n",
      "\u001b[1;31mTypeError\u001b[0m: 'tuple' object does not support item assignment"
     ]
    }
   ],
   "source": [
    "#Recordemos nuestra tupla: ('USD', 'COP', 'MXN', 'EUR', 'BTC', 'ETH', 'ARS', 'COP')\n",
    "\n",
    "#Cambiemos el identificador de bitcoin por el de dogecoin (DOGE)\n",
    "divisas_1[4] = 'DOGE'\n",
    "divisas_1"
   ]
  },
  {
   "cell_type": "code",
   "execution_count": 8,
   "metadata": {},
   "outputs": [
    {
     "ename": "AttributeError",
     "evalue": "'tuple' object has no attribute 'remove'",
     "output_type": "error",
     "traceback": [
      "\u001b[1;31m---------------------------------------------------------------------------\u001b[0m",
      "\u001b[1;31mAttributeError\u001b[0m                            Traceback (most recent call last)",
      "Cell \u001b[1;32mIn[8], line 2\u001b[0m\n\u001b[0;32m      1\u001b[0m \u001b[38;5;66;03m#Eliminemos el identificador de pesos mexicanos\u001b[39;00m\n\u001b[1;32m----> 2\u001b[0m \u001b[43mdivisas_1\u001b[49m\u001b[38;5;241;43m.\u001b[39;49m\u001b[43mremove\u001b[49m(\u001b[38;5;124m'\u001b[39m\u001b[38;5;124mMXN\u001b[39m\u001b[38;5;124m'\u001b[39m)\n\u001b[0;32m      3\u001b[0m divisas_1\n",
      "\u001b[1;31mAttributeError\u001b[0m: 'tuple' object has no attribute 'remove'"
     ]
    }
   ],
   "source": [
    "#Eliminemos el identificador de pesos mexicanos\n",
    "divisas_1.remove('MXN')\n",
    "divisas_1"
   ]
  },
  {
   "cell_type": "code",
   "execution_count": 9,
   "metadata": {},
   "outputs": [
    {
     "ename": "AttributeError",
     "evalue": "'tuple' object has no attribute 'append'",
     "output_type": "error",
     "traceback": [
      "\u001b[1;31m---------------------------------------------------------------------------\u001b[0m",
      "\u001b[1;31mAttributeError\u001b[0m                            Traceback (most recent call last)",
      "Cell \u001b[1;32mIn[9], line 2\u001b[0m\n\u001b[0;32m      1\u001b[0m \u001b[38;5;66;03m#Agreguemos el identificador del Yen Japones (JPY)\u001b[39;00m\n\u001b[1;32m----> 2\u001b[0m \u001b[43mdivisas_1\u001b[49m\u001b[38;5;241;43m.\u001b[39;49m\u001b[43mappend\u001b[49m(\u001b[38;5;124m'\u001b[39m\u001b[38;5;124mJPY\u001b[39m\u001b[38;5;124m'\u001b[39m)\n\u001b[0;32m      3\u001b[0m divisas_1\n",
      "\u001b[1;31mAttributeError\u001b[0m: 'tuple' object has no attribute 'append'"
     ]
    }
   ],
   "source": [
    "#Agreguemos el identificador del Yen Japones (JPY)\n",
    "divisas_1.append('JPY')\n",
    "divisas_1"
   ]
  },
  {
   "cell_type": "markdown",
   "metadata": {},
   "source": [
    "**2. Dinámica**"
   ]
  },
  {
   "cell_type": "code",
   "execution_count": 11,
   "metadata": {},
   "outputs": [
    {
     "name": "stdout",
     "output_type": "stream",
     "text": [
      "Tupla de enteros para transacciones por día:\n",
      "(34, 45, 4, 50, 66)\n"
     ]
    }
   ],
   "source": [
    "#tupla de enteros:\n",
    "transacciones_por_dia = (34,45,4,50,66)\n",
    "print('Tupla de enteros para transacciones por día:')\n",
    "print(transacciones_por_dia)"
   ]
  },
  {
   "cell_type": "code",
   "execution_count": 13,
   "metadata": {},
   "outputs": [
    {
     "name": "stdout",
     "output_type": "stream",
     "text": [
      "Tupla de flotantes para el precio diario del dolar:\n",
      "(4683.85, 4702.67, 4691.09, 4693.99, 4693.99, 4693.99, 4693.99)\n"
     ]
    }
   ],
   "source": [
    "#tupla de flotantes:\n",
    "precio_dolar_por_dia = (4683.85,4702.67,4691.09,4693.99,4693.99,4693.99,4693.99)\n",
    "print('Tupla de flotantes para el precio diario del dolar:')\n",
    "print(precio_dolar_por_dia)"
   ]
  },
  {
   "cell_type": "code",
   "execution_count": 18,
   "metadata": {},
   "outputs": [
    {
     "name": "stdout",
     "output_type": "stream",
     "text": [
      "Tupla de boleans para determinar el cambio diario de un precio:\n",
      "(True, True, False, True, False, False)\n"
     ]
    }
   ],
   "source": [
    "#tupla de boleans:\n",
    "cambio_precio_dia = (True,True,False,True,False,False)\n",
    "print('Tupla de boleans para determinar el cambio diario de un precio:')\n",
    "print(cambio_precio_dia)"
   ]
  },
  {
   "cell_type": "code",
   "execution_count": 19,
   "metadata": {},
   "outputs": [
    {
     "name": "stdout",
     "output_type": "stream",
     "text": [
      "Tupla de listas, para almacenar el precio diario del dolar con su respectiva fecha:\n",
      "([4683.85, 4702.67, 4691.09, 4693.99], ['2023/01/21', '2023/01/22', '2023/01/23', '2023/01/24'])\n"
     ]
    }
   ],
   "source": [
    "#Tupla de listas:\n",
    "precio_dolar_por_dia = ([4683.85,4702.67,4691.09,4693.99],['2023/01/21','2023/01/22','2023/01/23','2023/01/24'])\n",
    "print('Tupla de listas, para almacenar el precio diario del dolar con su respectiva fecha:')\n",
    "print(precio_dolar_por_dia)"
   ]
  },
  {
   "cell_type": "code",
   "execution_count": 21,
   "metadata": {},
   "outputs": [
    {
     "name": "stdout",
     "output_type": "stream",
     "text": [
      "Tupla de tuplas, para almacenar el precio diario del dolar con su respectiva fecha:\n",
      "((4683.85, 4702.67, 4691.09, 4693.99), ('2023/01/21', '2023/01/22', '2023/01/23', '2023/01/24'))\n"
     ]
    }
   ],
   "source": [
    "#Tupla de tuplas:\n",
    "precio_dolar_por_dia = ((4683.85,4702.67,4691.09,4693.99),('2023/01/21','2023/01/22','2023/01/23','2023/01/24'))\n",
    "print('Tupla de tuplas, para almacenar el precio diario del dolar con su respectiva fecha:')\n",
    "print(precio_dolar_por_dia)"
   ]
  },
  {
   "cell_type": "markdown",
   "metadata": {},
   "source": [
    "**3. No única** "
   ]
  },
  {
   "cell_type": "code",
   "execution_count": 23,
   "metadata": {},
   "outputs": [
    {
     "name": "stdout",
     "output_type": "stream",
     "text": [
      "Elemento 2:\n",
      "COP\n",
      "Elemento 7:\n",
      "ARS\n",
      "Tupla completa:\n",
      "('USD', 'COP', 'MXN', 'EUR', 'BTC', 'ETH', 'ARS', 'COP')\n"
     ]
    }
   ],
   "source": [
    "#La tupla divisas_1 posee 2 veces el elemento 'COP' y esto no representa un conflicto como se puede ver a continuación:\n",
    "print('Elemento 2:')\n",
    "print(divisas_1[1])\n",
    "print('Elemento 7:')\n",
    "print(divisas_1[6])\n",
    "print('Tupla completa:')\n",
    "print(divisas_1)"
   ]
  }
 ],
 "metadata": {
  "kernelspec": {
   "display_name": "Python 3.10.7 64-bit (microsoft store)",
   "language": "python",
   "name": "python3"
  },
  "language_info": {
   "codemirror_mode": {
    "name": "ipython",
    "version": 3
   },
   "file_extension": ".py",
   "mimetype": "text/x-python",
   "name": "python",
   "nbconvert_exporter": "python",
   "pygments_lexer": "ipython3",
   "version": "3.10.9"
  },
  "orig_nbformat": 4,
  "vscode": {
   "interpreter": {
    "hash": "e9265a22922cf29a7916131f3def5e811c3f0863f796f834e6c61767dd663e75"
   }
  }
 },
 "nbformat": 4,
 "nbformat_minor": 2
}
