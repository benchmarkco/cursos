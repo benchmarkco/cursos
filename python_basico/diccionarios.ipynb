{
 "cells": [
  {
   "cell_type": "markdown",
   "metadata": {},
   "source": [
    "### **Diccionarios**"
   ]
  },
  {
   "cell_type": "markdown",
   "metadata": {},
   "source": [
    "**Definición** \n",
    "\n",
    "Un diciconario es otra estructura de datos que nos permite almacenar datos como \"pares de claves\", siguiendo la estructura de:\n",
    "\n",
    "*Clave - Valor*\n",
    "\n",
    "De esta manera, nos permite almacenar una serie de obervaciones entre 2 conjuntos de elemetos (Calves y Valores)"
   ]
  },
  {
   "cell_type": "markdown",
   "metadata": {},
   "source": [
    "**Caracteristicas** \n",
    "\n",
    "**1. Ordenada:** Los elementos dentro del diccionario están indexados y es posible acceder a cada uno por medio de su clave, a diferencia de las listas o tuplas que estan indexadas por un índice numérico.\n",
    "\n",
    "**2. Editable:** Los elementos dentro del diccionario pueden ser editados, eliminados o incluso se pueden añadir nuevos elemetos.\n",
    "\n",
    "**3. Dinámica:** Pueden contener diferentes tipos de datos y hasta de estructuras de datos.\n",
    "\n",
    "**4. No única:** Puede contener valores duplicados sin que se generen errores, pero sus claves deben de ser unicas."
   ]
  },
  {
   "cell_type": "markdown",
   "metadata": {},
   "source": [
    "**Creación y Estructura**\n",
    "\n",
    "Por medio del uso de llaves { } o el uso del comando **dict()** es posible crear un diccionario y su estructura seria la siguiente:\n",
    "\n",
    "diccionario = {'clave_1' : 'elemento_1' , 'clave_2' : 'elemento_2' , 'clave_3' : 'elemento_3' , 'clave_4' : 'elemento_4'} \n",
    "\n",
    "Ejemplo:"
   ]
  },
  {
   "cell_type": "code",
   "execution_count": 19,
   "metadata": {},
   "outputs": [
    {
     "name": "stdout",
     "output_type": "stream",
     "text": [
      "Resultado 1:\n",
      "El diccionario es:\n",
      "{'USD': 'DOLAR_ESTADOUNIDENSE', 'COP': 'PESO_COLOMBIANO', 'MXN': 'PESO_MEXICANO', 'EUR': 'EURO', 'BTC': 'BITCOIN', 'ETH': 'ETHEREUM', 'ARS': 'PESO_ARGENTINO'}\n",
      "\n",
      "El tipo de dato es:\n",
      "<class 'dict'>\n"
     ]
    }
   ],
   "source": [
    "#Elementos que queremos guardar como datos en el diccionario -> 'USD' 'COP' 'MXN' 'EUR' 'BTC' 'ETH' 'ARS'\n",
    "#Nombre de la variable que queremos utilizar para almacenar la lista -> divisas_1\n",
    "\n",
    "#Manera 1\n",
    "divisas_1 = {'USD':'DOLAR_ESTADOUNIDENSE',\n",
    "            'COP':'PESO_COLOMBIANO',\n",
    "            'MXN':'PESO_MEXICANO',\n",
    "            'EUR':'EURO',\n",
    "            'BTC':'BITCOIN',\n",
    "            'ETH':'ETHEREUM',\n",
    "            'ARS':'PESO_ARGENTINO'}\n",
    "\n",
    "print('Resultado 1:')\n",
    "print('El diccionario es:')\n",
    "print(divisas_1)\n",
    "print()\n",
    "print('El tipo de dato es:')\n",
    "print(type(divisas_1))\n"
   ]
  },
  {
   "cell_type": "code",
   "execution_count": 6,
   "metadata": {},
   "outputs": [
    {
     "name": "stdout",
     "output_type": "stream",
     "text": [
      "Resultado 2:\n",
      "El diccionario es:\n",
      "{'USD': 'DOLAR_ESTADOUNIDENSE', 'COP': 'PESO_COLOMBIANO', 'MXN': 'PESO_MEXICANO', 'EUR': 'EURO', 'BTC': 'BITCOIN', 'ETH': 'ETHEREUM', 'ARS': 'PESO_ARGENTINO'}\n",
      "\n",
      "El tipo de dato es:\n",
      "<class 'dict'>\n"
     ]
    }
   ],
   "source": [
    "#Elementos que queremos guardar como datos en el diccionario -> 'USD' 'COP' 'MXN' 'EUR' 'BTC' 'ETH' 'ARS'\n",
    "#Nombre de la variable que queremos utilizar para almacenar la lista -> divisas_2\n",
    "\n",
    "#Manera 2\n",
    "divisas_2 = dict({'USD':'DOLAR_ESTADOUNIDENSE',\n",
    "            'COP':'PESO_COLOMBIANO',\n",
    "            'MXN':'PESO_MEXICANO',\n",
    "            'EUR':'EURO',\n",
    "            'BTC':'BITCOIN',\n",
    "            'ETH':'ETHEREUM',\n",
    "            'ARS':'PESO_ARGENTINO'})\n",
    "\n",
    "print('Resultado 2:')\n",
    "print('El diccionario es:')\n",
    "print(divisas_2)\n",
    "print()\n",
    "print('El tipo de dato es:')\n",
    "print(type(divisas_2))"
   ]
  },
  {
   "cell_type": "markdown",
   "metadata": {},
   "source": [
    "Ya que sabemos definirun diccionario y entendemos su estructura, comprobemos sus caracteristicas con los siguientes ejemplos:"
   ]
  },
  {
   "cell_type": "markdown",
   "metadata": {},
   "source": [
    "**1. Ordenada**"
   ]
  },
  {
   "cell_type": "code",
   "execution_count": 20,
   "metadata": {},
   "outputs": [
    {
     "name": "stdout",
     "output_type": "stream",
     "text": [
      "Significado de USD:\n",
      "DOLAR_ESTADOUNIDENSE\n",
      "Significado de COP:\n",
      "PESO_COLOMBIANO\n",
      "Significado de MXN:\n",
      "PESO_MEXICANO\n",
      "Significado de ARS:\n",
      "PESO_ARGENTINO\n"
     ]
    }
   ],
   "source": [
    "# -> Recordemos que nuestro diccionario tiene 7 elementos y al estar ordenados esto significa que podemos consultar cada \n",
    "#uno de manera individual.\n",
    "# -> La forma para consultarlo es: nombre_diccionario[calve]\n",
    "\n",
    "print('Significado de USD:')\n",
    "print(divisas_1['USD'])\n",
    "print('Significado de COP:')\n",
    "print(divisas_1['COP'])\n",
    "print('Significado de MXN:')\n",
    "print(divisas_1['MXN'])\n",
    "print('Significado de ARS:')\n",
    "print(divisas_1['ARS'])"
   ]
  },
  {
   "cell_type": "markdown",
   "metadata": {},
   "source": [
    "****Pendiente****"
   ]
  },
  {
   "cell_type": "markdown",
   "metadata": {},
   "source": [
    "**2. Editable**"
   ]
  },
  {
   "cell_type": "code",
   "execution_count": 21,
   "metadata": {},
   "outputs": [],
   "source": [
    "#Recordemos nuestra lista: ['USD', 'COP', 'MXN', 'EUR', 'BTC', 'ETH', 'ARS', 'COP']\n",
    "\n",
    "#Eliminemos la clave-valor de BTC-BITCOIN y agreguemos una nueva clave de DOGE-DOGECOIN\n",
    "#Clave\n",
    "divisas_1['DOGE'] = divisas_1.pop('BTC')\n",
    "#Valor\n",
    "divisas_1.update({'DOGE':'DOGECOIN'})"
   ]
  },
  {
   "cell_type": "code",
   "execution_count": 40,
   "metadata": {},
   "outputs": [
    {
     "data": {
      "text/plain": [
       "['USD', 'COP', 'EUR', 'DOGE', 'ETH', 'ARS', 'COP']"
      ]
     },
     "execution_count": 40,
     "metadata": {},
     "output_type": "execute_result"
    }
   ],
   "source": [
    "#Eliminemos el identificador de pesos mexicanos\n",
    "divisas_1.remove('MXN')\n",
    "divisas_1"
   ]
  },
  {
   "cell_type": "markdown",
   "metadata": {},
   "source": [
    "**3. Dinámica**"
   ]
  },
  {
   "cell_type": "code",
   "execution_count": 45,
   "metadata": {},
   "outputs": [
    {
     "name": "stdout",
     "output_type": "stream",
     "text": [
      "Lista de enteros para transacciones por día:\n",
      "[34, 45, 4, 50, 66]\n"
     ]
    }
   ],
   "source": [
    "#lista de enteros:\n",
    "transacciones_por_dia = [34,45,4,50,66]\n",
    "print('Lista de enteros para transacciones por día:')\n",
    "print(transacciones_por_dia)"
   ]
  },
  {
   "cell_type": "code",
   "execution_count": 1,
   "metadata": {},
   "outputs": [
    {
     "name": "stdout",
     "output_type": "stream",
     "text": [
      "Lista de flotantes para el precio diario del dolar:\n",
      "[4683.85, 4702.67, 4691.09, 4693.99, 4693.99, 4693.99, 4693.99]\n"
     ]
    }
   ],
   "source": [
    "#lista de flotantes:\n",
    "precio_dolar_por_dia = [4683.85,4702.67,4691.09,4693.99,4693.99,4693.99,4693.99]\n",
    "print('Lista de flotantes para el precio diario del dolar:')\n",
    "print(precio_dolar_por_dia)"
   ]
  },
  {
   "cell_type": "code",
   "execution_count": 48,
   "metadata": {},
   "outputs": [
    {
     "name": "stdout",
     "output_type": "stream",
     "text": [
      "Lista de boleans para determinar el cambio diario de un precio:\n",
      "[True, True, False, True, False, False]\n"
     ]
    }
   ],
   "source": [
    "#lista de boleans:\n",
    "cambio_precio_dia = [True,True,False,True,False,False]\n",
    "print('Lista de boleans para determinar el cambio diario de un precio:')\n",
    "print(cambio_precio_dia)"
   ]
  },
  {
   "cell_type": "code",
   "execution_count": 49,
   "metadata": {},
   "outputs": [
    {
     "name": "stdout",
     "output_type": "stream",
     "text": [
      "Lista de listas, para almacenar el precio diario del doalr con su respectiva fecha:\n",
      "[[4683.85, 4702.67, 4691.09, 4693.99], ['2023/01/21', '2023/01/22', '2023/01/23', '2023/01/24']]\n"
     ]
    }
   ],
   "source": [
    "#lista de listas:\n",
    "precio_dolar_por_dia = [[4683.85,4702.67,4691.09,4693.99],['2023/01/21','2023/01/22','2023/01/23','2023/01/24']]\n",
    "print('Lista de listas, para almacenar el precio diario del dolar con su respectiva fecha:')\n",
    "print(precio_dolar_por_dia)"
   ]
  },
  {
   "cell_type": "markdown",
   "metadata": {},
   "source": [
    "**4. No única** "
   ]
  },
  {
   "cell_type": "code",
   "execution_count": 56,
   "metadata": {},
   "outputs": [
    {
     "name": "stdout",
     "output_type": "stream",
     "text": [
      "Elemento 2:\n",
      "COP\n",
      "Elemento 7:\n",
      "COP\n",
      "Lista completa:\n",
      "['USD', 'COP', 'EUR', 'DOGE', 'ETH', 'ARS', 'COP', 'JPY']\n"
     ]
    }
   ],
   "source": [
    "#La lista divisas_1 posee 2 veces el elemento 'COP' y esto no representa un conflicto como se puede ver a continuación:\n",
    "print('Elemento 2:')\n",
    "print(divisas_1[1])\n",
    "print('Elemento 7:')\n",
    "print(divisas_1[6])\n",
    "print('Lista completa:')\n",
    "print(divisas_1)"
   ]
  }
 ],
 "metadata": {
  "kernelspec": {
   "display_name": "Python 3.10.7 64-bit (microsoft store)",
   "language": "python",
   "name": "python3"
  },
  "language_info": {
   "codemirror_mode": {
    "name": "ipython",
    "version": 3
   },
   "file_extension": ".py",
   "mimetype": "text/x-python",
   "name": "python",
   "nbconvert_exporter": "python",
   "pygments_lexer": "ipython3",
   "version": "3.10.9"
  },
  "orig_nbformat": 4,
  "vscode": {
   "interpreter": {
    "hash": "e9265a22922cf29a7916131f3def5e811c3f0863f796f834e6c61767dd663e75"
   }
  }
 },
 "nbformat": 4,
 "nbformat_minor": 2
}
