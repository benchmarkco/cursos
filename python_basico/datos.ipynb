{
 "cells": [
  {
   "cell_type": "markdown",
   "metadata": {},
   "source": [
    "### **Variable**"
   ]
  },
  {
   "cell_type": "markdown",
   "metadata": {},
   "source": [
    "**Definición** \n",
    "\n",
    "Es un sitio en memoria donde almacenaremos datos.\n",
    "\n",
    "Pero... ¿Que son datos?"
   ]
  },
  {
   "cell_type": "markdown",
   "metadata": {},
   "source": [
    "### **Datos**"
   ]
  },
  {
   "cell_type": "markdown",
   "metadata": {},
   "source": [
    "**Definición** \n",
    "\n",
    "Hace referencia a información que en nuestro caso podria ser ser texto o numeros."
   ]
  },
  {
   "cell_type": "markdown",
   "metadata": {},
   "source": [
    "**Tipos de datos**\n",
    "\n",
    "Con el fin de entender que texto y numeros es posible almacenar en python, demos un recorrido por los tipos de datos:"
   ]
  },
  {
   "cell_type": "markdown",
   "metadata": {},
   "source": [
    "* **Strings:** Tipo de dato que pérmite guardar texto, por ejemplo:\n"
   ]
  },
  {
   "cell_type": "code",
   "execution_count": 4,
   "metadata": {},
   "outputs": [
    {
     "name": "stdout",
     "output_type": "stream",
     "text": [
      "El dato de nuestra variables es:\n",
      "El volumen en la transaccionalidad se incremento esta semana\n",
      "\n",
      "El tipo de dato es:\n",
      "<class 'str'>\n"
     ]
    }
   ],
   "source": [
    "#Nombre de la variable que queremos utilizar para almacenar el dato -> estado\n",
    "#Valor que queremos guardar como dato -> 'El volumen en la transaccionalidad se incremento esta semana'\n",
    "estado = 'El volumen en la transaccionalidad se incremento esta semana'\n",
    "print('El dato de nuestra variables es:')\n",
    "print(estado)\n",
    "print()\n",
    "print('El tipo de dato es:')\n",
    "print(type(estado))"
   ]
  },
  {
   "cell_type": "markdown",
   "metadata": {},
   "source": [
    "* **Boleans:** Tipo de variable que solo puede tomar 2 valores, verdadero (True) o falso (False), por ejemplo:"
   ]
  },
  {
   "cell_type": "code",
   "execution_count": 5,
   "metadata": {},
   "outputs": [
    {
     "name": "stdout",
     "output_type": "stream",
     "text": [
      "Resultado primer ejemplo\n",
      "El dato de nuestra variables es:\n",
      "True\n",
      "\n",
      "El tipo de dato es:\n",
      "<class 'bool'>\n",
      "True\n"
     ]
    }
   ],
   "source": [
    "#Nombre de la variable que queremos utilizar para almacenar el dato -> cambio_dolar\n",
    "#Valor que queremos guardar como dato -> True\n",
    "cambio_dolar = True\n",
    "print('Resultado primer ejemplo')\n",
    "print('El dato de nuestra variables es:')\n",
    "print(cambio_dolar)\n",
    "print()\n",
    "print('El tipo de dato es:')\n",
    "print(type(cambio_dolar))\n",
    "print(cambio_dolar)"
   ]
  },
  {
   "cell_type": "code",
   "execution_count": 7,
   "metadata": {},
   "outputs": [
    {
     "name": "stdout",
     "output_type": "stream",
     "text": [
      "Resultado segundo ejemplo\n",
      "El dato de nuestra variables es:\n",
      "False\n",
      "\n",
      "El tipo de dato es:\n",
      "<class 'bool'>\n"
     ]
    }
   ],
   "source": [
    "#Nombre de la variable que queremos utilizar para almacenar el dato -> cambio_valor\n",
    "#Valor que queremos guardar como dato -> False\n",
    "cambio_valor = False\n",
    "print('Resultado segundo ejemplo')\n",
    "print('El dato de nuestra variables es:')\n",
    "print(cambio_valor)\n",
    "print()\n",
    "print('El tipo de dato es:')\n",
    "print(type(cambio_valor))"
   ]
  },
  {
   "cell_type": "markdown",
   "metadata": {},
   "source": [
    "* **Intergers:** Tipo de variable que permite guardar numeros enteros, los cuales no contienen decimales y pueden ser positivos o negativos, por ejemplo:"
   ]
  },
  {
   "cell_type": "code",
   "execution_count": 8,
   "metadata": {},
   "outputs": [
    {
     "name": "stdout",
     "output_type": "stream",
     "text": [
      "Resultado primer ejemplo\n",
      "El dato de nuestra variables es:\n",
      "23\n",
      "\n",
      "El tipo de dato es:\n",
      "<class 'int'>\n"
     ]
    }
   ],
   "source": [
    "#Nombre de la variable que queremos utilizar para almacenar el dato -> numero_acciones\n",
    "#Valor que queremos guardar como dato -> 23\n",
    "numero_acciones = 23\n",
    "print('Resultado primer ejemplo')\n",
    "print('El dato de nuestra variables es:')\n",
    "print(numero_acciones)\n",
    "print()\n",
    "print('El tipo de dato es:')\n",
    "print(type(numero_acciones))"
   ]
  },
  {
   "cell_type": "code",
   "execution_count": 9,
   "metadata": {},
   "outputs": [
    {
     "name": "stdout",
     "output_type": "stream",
     "text": [
      "Resultado segundo ejemplo\n",
      "El dato de nuestra variables es:\n",
      "-45\n",
      "\n",
      "El tipo de dato es:\n",
      "<class 'int'>\n"
     ]
    }
   ],
   "source": [
    "#Nombre de la variable que queremos utilizar para almacenar el dato -> cambio_de_precio\n",
    "#Valor que queremos guardar como dato -> -45\n",
    "cambio_de_precio = -45\n",
    "print('Resultado segundo ejemplo')\n",
    "print('El dato de nuestra variables es:')\n",
    "print(cambio_de_precio)\n",
    "print()\n",
    "print('El tipo de dato es:')\n",
    "print(type(cambio_de_precio))"
   ]
  },
  {
   "cell_type": "markdown",
   "metadata": {},
   "source": [
    "* **Float:** Tipo de variable que permite guardar numeros tanto positivos como negativos y que contengan uno o mas decimales, por ejemplo:"
   ]
  },
  {
   "cell_type": "code",
   "execution_count": 10,
   "metadata": {},
   "outputs": [
    {
     "name": "stdout",
     "output_type": "stream",
     "text": [
      "El dato de nuestra variables es:\n",
      "4658.58\n",
      "\n",
      "El tipo de dato es:\n",
      "<class 'float'>\n"
     ]
    }
   ],
   "source": [
    "#Nombre de la variable que queremos utilizar para almacenar el dato -> precio_dolar\n",
    "#Valor que queremos guardar como dato -> 4658.58\n",
    "precio_dolar = 4658.58\n",
    "print('El dato de nuestra variables es:')\n",
    "print(precio_dolar)\n",
    "print()\n",
    "print('El tipo de dato es:')\n",
    "print(type(precio_dolar))"
   ]
  }
 ],
 "metadata": {
  "kernelspec": {
   "display_name": "Python 3.10.7 64-bit (microsoft store)",
   "language": "python",
   "name": "python3"
  },
  "language_info": {
   "codemirror_mode": {
    "name": "ipython",
    "version": 3
   },
   "file_extension": ".py",
   "mimetype": "text/x-python",
   "name": "python",
   "nbconvert_exporter": "python",
   "pygments_lexer": "ipython3",
   "version": "3.10.7"
  },
  "orig_nbformat": 4,
  "vscode": {
   "interpreter": {
    "hash": "e9265a22922cf29a7916131f3def5e811c3f0863f796f834e6c61767dd663e75"
   }
  }
 },
 "nbformat": 4,
 "nbformat_minor": 2
}
